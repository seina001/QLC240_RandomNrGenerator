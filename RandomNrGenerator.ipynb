{
  "nbformat": 4,
  "nbformat_minor": 0,
  "metadata": {
    "colab": {
      "provenance": [],
      "authorship_tag": "ABX9TyPifZ4sFwKJjKHBaDqDh1r4",
      "include_colab_link": true
    },
    "kernelspec": {
      "name": "python3",
      "display_name": "Python 3"
    },
    "language_info": {
      "name": "python"
    }
  },
  "cells": [
    {
      "cell_type": "markdown",
      "metadata": {
        "id": "view-in-github",
        "colab_type": "text"
      },
      "source": [
        "<a href=\"https://colab.research.google.com/github/seina001/QLC240_RandomNrGenerator/blob/main/RandomNrGenerator.ipynb\" target=\"_parent\"><img src=\"https://colab.research.google.com/assets/colab-badge.svg\" alt=\"Open In Colab\"/></a>"
      ]
    },
    {
      "cell_type": "code",
      "execution_count": 1,
      "metadata": {
        "id": "wO9XTyD-yBOY"
      },
      "outputs": [],
      "source": [
        "import random"
      ]
    },
    {
      "cell_type": "code",
      "source": [
        "#Make a random list of numbers (20 total) which are randomely chosen between 0 and 100000\n",
        "random_list = random.sample(range(0,100000),20)\n",
        "#Change \"yournumber\" to a number between 0 and 19\n",
        "x =11\n",
        "#x = 14\n",
        "print(random_list[x])"
      ],
      "metadata": {
        "colab": {
          "base_uri": "https://localhost:8080/"
        },
        "id": "lAj0n6YKyHu5",
        "outputId": "b8a8e43c-2006-4872-bcb8-5c5feac86f73"
      },
      "execution_count": 2,
      "outputs": [
        {
          "output_type": "stream",
          "name": "stdout",
          "text": [
            "39954\n"
          ]
        }
      ]
    },
    {
      "cell_type": "code",
      "source": [
        "# prompt: Create a list with the following names: Ty, Nolan, Filip, Maddie, Anabelle, Zoe, Karoline. In a random order each time it is run. Add an input option to increase randomness from a human input.\n",
        "\n",
        "import random\n",
        "\n",
        "names = [\"Ty\", \"Nolan\", \"Filip\", \"Maddie\", \"Anabelle\", \"Zoe\", \"Karoline\"]\n",
        "\n",
        "randomness_seed = int(input(\"Enter a number to increase randomness (0-100): \"))\n",
        "\n",
        "random.seed(randomness_seed)\n",
        "random.shuffle(names)\n",
        "\n",
        "names\n"
      ],
      "metadata": {
        "colab": {
          "base_uri": "https://localhost:8080/"
        },
        "id": "B2wa6560yQCE",
        "outputId": "a71cea45-fc13-4233-c5bb-ef10b03ec4da"
      },
      "execution_count": 7,
      "outputs": [
        {
          "name": "stdout",
          "output_type": "stream",
          "text": [
            "Enter a number to increase randomness (0-100): 50\n"
          ]
        },
        {
          "output_type": "execute_result",
          "data": {
            "text/plain": [
              "['Ty', 'Karoline', 'Anabelle', 'Nolan', 'Zoe', 'Filip', 'Maddie']"
            ]
          },
          "metadata": {},
          "execution_count": 7
        }
      ]
    },
    {
      "cell_type": "code",
      "source": [],
      "metadata": {
        "id": "2QpFTciuzO3X"
      },
      "execution_count": null,
      "outputs": []
    }
  ]
}