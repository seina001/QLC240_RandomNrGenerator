{
  "nbformat": 4,
  "nbformat_minor": 0,
  "metadata": {
    "colab": {
      "provenance": [],
      "authorship_tag": "ABX9TyO2b1+jjjQ6Ke7Y7hu60Ov6",
      "include_colab_link": true
    },
    "kernelspec": {
      "name": "python3",
      "display_name": "Python 3"
    },
    "language_info": {
      "name": "python"
    }
  },
  "cells": [
    {
      "cell_type": "markdown",
      "metadata": {
        "id": "view-in-github",
        "colab_type": "text"
      },
      "source": [
        "<a href=\"https://colab.research.google.com/github/seina001/QLC240_RandomNrGenerator/blob/main/PlottingExample.ipynb\" target=\"_parent\"><img src=\"https://colab.research.google.com/assets/colab-badge.svg\" alt=\"Open In Colab\"/></a>"
      ]
    },
    {
      "cell_type": "code",
      "execution_count": 1,
      "metadata": {
        "id": "Dl9-5y0KLNcs"
      },
      "outputs": [],
      "source": [
        "import random"
      ]
    },
    {
      "cell_type": "markdown",
      "source": [
        "Import packages needed above"
      ],
      "metadata": {
        "id": "ueJt7FrGLloa"
      }
    },
    {
      "cell_type": "code",
      "source": [
        "#Convert inches to cm\n",
        "def inches_to_cm(inches):\n",
        "    return inches * 2.54\n",
        "\n",
        "\n"
      ],
      "metadata": {
        "id": "CoEedp0FOgiI"
      },
      "execution_count": 18,
      "outputs": []
    },
    {
      "cell_type": "code",
      "source": [
        "inches_to_cm(7.75)"
      ],
      "metadata": {
        "colab": {
          "base_uri": "https://localhost:8080/"
        },
        "id": "e4AKh37PvS28",
        "outputId": "5bf3222b-77e7-45d1-c27e-afd4575cfca1"
      },
      "execution_count": 19,
      "outputs": [
        {
          "output_type": "execute_result",
          "data": {
            "text/plain": [
              "19.685"
            ]
          },
          "metadata": {},
          "execution_count": 19
        }
      ]
    },
    {
      "cell_type": "code",
      "source": [
        "inches_to_cm(15.75)"
      ],
      "metadata": {
        "colab": {
          "base_uri": "https://localhost:8080/"
        },
        "id": "-ciqVehVvfnN",
        "outputId": "e72a1964-c58b-471d-c3da-5e880e0daddf"
      },
      "execution_count": 20,
      "outputs": [
        {
          "output_type": "execute_result",
          "data": {
            "text/plain": [
              "40.005"
            ]
          },
          "metadata": {},
          "execution_count": 20
        }
      ]
    },
    {
      "cell_type": "code",
      "source": [
        "inches_to_cm(9.625)"
      ],
      "metadata": {
        "colab": {
          "base_uri": "https://localhost:8080/"
        },
        "id": "JF4wbdiZviN8",
        "outputId": "0e19a0ce-abb7-4060-d1e7-9cc0b3a9b68a"
      },
      "execution_count": 21,
      "outputs": [
        {
          "output_type": "execute_result",
          "data": {
            "text/plain": [
              "24.4475"
            ]
          },
          "metadata": {},
          "execution_count": 21
        }
      ]
    },
    {
      "cell_type": "code",
      "source": [
        "# All numbers are in cm\n",
        "Width = [19.68,20.955,20.8,20.8, 21,20.5]\n",
        "Length = [40.005, 40.64,40.5,40,40,40]\n",
        "Height = [24.4475,25.4,25.6,26.5,27,26.5]\n"
      ],
      "metadata": {
        "id": "PNLsPUtwvinF"
      },
      "execution_count": 22,
      "outputs": []
    },
    {
      "cell_type": "code",
      "source": [
        "Width"
      ],
      "metadata": {
        "colab": {
          "base_uri": "https://localhost:8080/"
        },
        "id": "e_GH3Wovwizy",
        "outputId": "dbaf36dc-ecea-432b-c29d-57f11c90d1d0"
      },
      "execution_count": 23,
      "outputs": [
        {
          "output_type": "execute_result",
          "data": {
            "text/plain": [
              "[19.68, 20.955, 20.8, 20.8, 21, 20.5]"
            ]
          },
          "metadata": {},
          "execution_count": 23
        }
      ]
    },
    {
      "cell_type": "code",
      "source": [],
      "metadata": {
        "id": "3mNzlFzvwkFm"
      },
      "execution_count": 23,
      "outputs": []
    },
    {
      "cell_type": "code",
      "source": [
        "import numpy as np # Import the numpy library for array operations\n",
        "\n",
        "# Convert lists to numpy arrays for element-wise multiplication\n",
        "Width_np = np.array(Width)\n",
        "Length_np = np.array(Length)\n",
        "Height_np = np.array(Height)\n",
        "\n",
        "\n",
        "# Calculate volume using element-wise multiplication\n",
        "Volume = Width_np * Length_np * Height_np\n",
        "\n",
        "print(Volume)"
      ],
      "metadata": {
        "colab": {
          "base_uri": "https://localhost:8080/"
        },
        "id": "UnemXLPHwvsW",
        "outputId": "63b620a0-d980-4d6c-ea48-6831e9d6f447"
      },
      "execution_count": 24,
      "outputs": [
        {
          "output_type": "stream",
          "name": "stdout",
          "text": [
            "[19247.477634 21630.92448  21565.44     22048.       22680.\n",
            " 21730.      ]\n"
          ]
        }
      ]
    },
    {
      "cell_type": "code",
      "source": [
        "# Plot Width, Length and Height as categories on the x axis in a figure with y axis in centimeters, plot standard deviation on each category\n",
        "import matplotlib.pyplot as plt\n",
        "\n",
        "# Calculate means and standard deviations\n",
        "width_mean = np.mean(Width_np)\n",
        "width_std = np.std(Width_np)\n",
        "length_mean = np.mean(Length_np)\n",
        "length_std = np.std(Length_np)\n",
        "height_mean = np.mean(Height_np)\n",
        "height_std = np.std(Height_np)\n",
        "\n"
      ],
      "metadata": {
        "id": "q4dJA3t7y1l8"
      },
      "execution_count": 25,
      "outputs": []
    },
    {
      "cell_type": "code",
      "source": [
        "\n",
        "# Create categories and data for plotting\n",
        "categories = ['Width', 'Length', 'Height']\n",
        "means = [width_mean, length_mean, height_mean]\n",
        "stds = [width_std, length_std, height_std]\n",
        "\n",
        "# Create the bar plot with error bars\n",
        "plt.bar(categories, means, yerr=stds, capsize=5)  # capsize controls error bar cap size\n",
        "\n",
        "# Customize the plot\n",
        "plt.ylabel(\"Centimeters (cm)\")\n",
        "plt.title(\"Width, Length, and Height with Standard Deviation\")\n",
        "\n",
        "# Show the plot\n",
        "plt.show()"
      ],
      "metadata": {
        "colab": {
          "base_uri": "https://localhost:8080/",
          "height": 452
        },
        "id": "s5H3PkOp1rDL",
        "outputId": "71429937-4c83-4fa5-a58a-c0b6c6291ea0"
      },
      "execution_count": 26,
      "outputs": [
        {
          "output_type": "display_data",
          "data": {
            "text/plain": [
              "<Figure size 640x480 with 1 Axes>"
            ],
            "image/png": "[encoded data removed]"
          },
          "metadata": {}
        }
      ]
    },
    {
      "cell_type": "code",
      "source": [],
      "metadata": {
        "id": "EKOBIz1f6GB2"
      },
      "execution_count": null,
      "outputs": []
    }
  ]
}