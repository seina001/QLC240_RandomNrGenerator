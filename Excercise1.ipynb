{
  "nbformat": 4,
  "nbformat_minor": 0,
  "metadata": {
    "colab": {
      "provenance": [],
      "authorship_tag": "ABX9TyPk3qU90wfAIFDbY6CXT08O",
      "include_colab_link": true
    },
    "kernelspec": {
      "name": "python3",
      "display_name": "Python 3"
    },
    "language_info": {
      "name": "python"
    }
  },
  "cells": [
    {
      "cell_type": "markdown",
      "metadata": {
        "id": "view-in-github",
        "colab_type": "text"
      },
      "source": [
        "<a href=\"https://colab.research.google.com/github/seina001/QLC240_Spring2025/blob/main/Excercise1.ipynb\" target=\"_parent\"><img src=\"https://colab.research.google.com/assets/colab-badge.svg\" alt=\"Open In Colab\"/></a>"
      ]
    },
    {
      "cell_type": "code",
      "execution_count": null,
      "metadata": {
        "id": "Z7k_zKSu_6BZ"
      },
      "outputs": [],
      "source": []
    },
    {
      "cell_type": "markdown",
      "source": [
        "Add a text box below to describe what you are doing in the following cell.\n",
        "Example:\n",
        "Importing the following packages needed to plot etc....\n",
        "\n",
        "- Packages likely to need:\n",
        "  - numpy as np\n",
        "  - pandas as pd\n",
        "  - matplotlib.pyplot as plt\n",
        "  - seaborn as sns\n",
        "  - from sklearn.datasets import load_iris\n",
        "\n"
      ],
      "metadata": {
        "id": "y_U0-rpG_-7C"
      }
    },
    {
      "cell_type": "code",
      "source": [],
      "metadata": {
        "id": "CP7Ld2J9AFGY"
      },
      "execution_count": null,
      "outputs": []
    },
    {
      "cell_type": "code",
      "source": [
        "#Create a cell that imports the data from using Pandas (see information on Pandas on google) into a variable called iris_fromdata"
      ],
      "metadata": {
        "id": "YXFIyvMPAYO_"
      },
      "execution_count": 1,
      "outputs": []
    },
    {
      "cell_type": "code",
      "source": [],
      "metadata": {
        "id": "JF0DvWXjR58L"
      },
      "execution_count": 1,
      "outputs": []
    },
    {
      "cell_type": "code",
      "source": [
        "#Create a cell that imports the iris dataset from load_iris from sklearn.datasets\n",
        "\n",
        "#Use google or AI to help with this"
      ],
      "metadata": {
        "id": "2KeVrOozR8ma"
      },
      "execution_count": 2,
      "outputs": []
    },
    {
      "cell_type": "code",
      "source": [],
      "metadata": {
        "id": "1zwFsomWSNNL"
      },
      "execution_count": null,
      "outputs": []
    },
    {
      "cell_type": "markdown",
      "source": [
        "Explore the dataset below in 2 cells. Ex. iris_df.head() and iris_df.describe()\n"
      ],
      "metadata": {
        "id": "EFm5kvyySSBK"
      }
    },
    {
      "cell_type": "code",
      "source": [],
      "metadata": {
        "id": "LkefaIpsSbp7"
      },
      "execution_count": null,
      "outputs": []
    },
    {
      "cell_type": "code",
      "source": [],
      "metadata": {
        "id": "MLZQgUK8Sc4l"
      },
      "execution_count": null,
      "outputs": []
    },
    {
      "cell_type": "markdown",
      "source": [
        "Plot the data!"
      ],
      "metadata": {
        "id": "32RBFkLHShjy"
      }
    },
    {
      "cell_type": "markdown",
      "source": [
        "1. Plot iris_df as a histogram"
      ],
      "metadata": {
        "id": "i_NCK4PESkoT"
      }
    },
    {
      "cell_type": "code",
      "source": [],
      "metadata": {
        "id": "jdt4RI-gScmb"
      },
      "execution_count": null,
      "outputs": []
    },
    {
      "cell_type": "markdown",
      "source": [
        "2. Plot iris_df as a pair plot in seaborn"
      ],
      "metadata": {
        "id": "8IPTtST9SpST"
      }
    },
    {
      "cell_type": "code",
      "source": [],
      "metadata": {
        "id": "mUDKBlFeSvQs"
      },
      "execution_count": null,
      "outputs": []
    },
    {
      "cell_type": "markdown",
      "source": [
        "3. Plot iris_df as a box plot in seaborn"
      ],
      "metadata": {
        "id": "aAE8cr2pSv0U"
      }
    },
    {
      "cell_type": "code",
      "source": [],
      "metadata": {
        "id": "yKXg4utQSzz7"
      },
      "execution_count": null,
      "outputs": []
    },
    {
      "cell_type": "markdown",
      "source": [
        "4. Plot iris_df as a scatter plot using seaborn"
      ],
      "metadata": {
        "id": "zlfMBDNgS0LL"
      }
    },
    {
      "cell_type": "code",
      "source": [],
      "metadata": {
        "id": "vVt_GTNlS5t8"
      },
      "execution_count": null,
      "outputs": []
    },
    {
      "cell_type": "markdown",
      "source": [
        "Finally, write a reflection on this excercise. What was easy, what was hard, what didn't work the first time, what errors did you encouter, etc."
      ],
      "metadata": {
        "id": "F3ioldoaS-Wz"
      }
    },
    {
      "cell_type": "code",
      "source": [],
      "metadata": {
        "id": "W2m4oHhES9jr"
      },
      "execution_count": null,
      "outputs": []
    }
  ]
}